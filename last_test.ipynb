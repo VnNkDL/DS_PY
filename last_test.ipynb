{
 "cells": [
  {
   "cell_type": "code",
   "execution_count": 1,
   "metadata": {},
   "outputs": [],
   "source": [
    "from keras.models import Model, model_from_json\n",
    "from keras.preprocessing.image import image_utils\n",
    "import numpy as np\n",
    "import matplotlib.pyplot as plt\n",
    "import os"
   ]
  },
  {
   "cell_type": "markdown",
   "metadata": {},
   "source": [
    "Загружаем модель из json "
   ]
  },
  {
   "cell_type": "code",
   "execution_count": 2,
   "metadata": {},
   "outputs": [
    {
     "name": "stdout",
     "output_type": "stream",
     "text": [
      "Model: \"sequential\"\n",
      "_________________________________________________________________\n",
      " Layer (type)                Output Shape              Param #   \n",
      "=================================================================\n",
      " conv2d (Conv2D)             (None, 148, 148, 32)      896       \n",
      "                                                                 \n",
      " activation (Activation)     (None, 148, 148, 32)      0         \n",
      "                                                                 \n",
      " max_pooling2d (MaxPooling2D  (None, 74, 74, 32)       0         \n",
      " )                                                               \n",
      "                                                                 \n",
      " conv2d_1 (Conv2D)           (None, 72, 72, 32)        9248      \n",
      "                                                                 \n",
      " activation_1 (Activation)   (None, 72, 72, 32)        0         \n",
      "                                                                 \n",
      " max_pooling2d_1 (MaxPooling  (None, 36, 36, 32)       0         \n",
      " 2D)                                                             \n",
      "                                                                 \n",
      " conv2d_2 (Conv2D)           (None, 34, 34, 64)        18496     \n",
      "                                                                 \n",
      " activation_2 (Activation)   (None, 34, 34, 64)        0         \n",
      "                                                                 \n",
      " max_pooling2d_2 (MaxPooling  (None, 17, 17, 64)       0         \n",
      " 2D)                                                             \n",
      "                                                                 \n",
      " flatten (Flatten)           (None, 18496)             0         \n",
      "                                                                 \n",
      " dense (Dense)               (None, 64)                1183808   \n",
      "                                                                 \n",
      " activation_3 (Activation)   (None, 64)                0         \n",
      "                                                                 \n",
      " dropout (Dropout)           (None, 64)                0         \n",
      "                                                                 \n",
      " dense_1 (Dense)             (None, 1)                 65        \n",
      "                                                                 \n",
      " activation_4 (Activation)   (None, 1)                 0         \n",
      "                                                                 \n",
      "=================================================================\n",
      "Total params: 1,212,513\n",
      "Trainable params: 1,212,513\n",
      "Non-trainable params: 0\n",
      "_________________________________________________________________\n"
     ]
    }
   ],
   "source": [
    "json_file = open(\"save//model_29112022_114545.json\", \"r\")\n",
    "loaded_model_json = json_file.read()\n",
    "json_file.close()\n",
    "loaded_model = model_from_json(loaded_model_json)\n",
    "loaded_model.load_weights(\"save//model_cnn.h5\")\n",
    "loaded_model.summary()\n",
    "answer_model = Model(inputs=loaded_model.input, outputs = loaded_model.output)"
   ]
  },
  {
   "cell_type": "markdown",
   "metadata": {},
   "source": [
    "Тестируем все фото в папке last_test"
   ]
  },
  {
   "cell_type": "code",
   "execution_count": 3,
   "metadata": {},
   "outputs": [
    {
     "name": "stdout",
     "output_type": "stream",
     "text": [
      "1/1 [==============================] - 0s 93ms/step\n",
      "Name: glasses_last_test (1).jpeg | Answer: Glasses | Result: 2.4432552891084924e-05\n",
      "1/1 [==============================] - 0s 18ms/step\n",
      "Name: glasses_last_test (1).png | Answer: Glasses | Result: 7.651335348721894e-14\n",
      "1/1 [==============================] - 0s 19ms/step\n",
      "Name: glasses_last_test (2).jpeg | Answer: Glasses | Result: 0.00016243905702140182\n",
      "1/1 [==============================] - 0s 18ms/step\n",
      "Name: glasses_last_test (6).jpg | Answer: Glasses | Result: 2.204330684998923e-12\n",
      "1/1 [==============================] - 0s 20ms/step\n",
      "Name: glasses_last_test.jpg | Answer: Glasses | Result: 0.0001887454418465495\n",
      "1/1 [==============================] - 0s 18ms/step\n",
      "Name: no_glasses_last_test_1.jpg | Answer: No glasses | Result: 0.999993085861206\n",
      "1/1 [==============================] - 0s 18ms/step\n",
      "Name: no_glasses_last_test_2.jpg | Answer: No glasses | Result: 0.9525835514068604\n",
      "1/1 [==============================] - 0s 20ms/step\n",
      "Name: no_glasses_last_test_3.webp | Answer: No glasses | Result: 0.9476200938224792\n",
      "1/1 [==============================] - 0s 21ms/step\n",
      "Name: no_glasses_last_test_4.jpg | Answer: No glasses | Result: 0.9990361928939819\n",
      "1/1 [==============================] - 0s 21ms/step\n",
      "Name: no_glasses_last_test_5.jpg | Answer: No glasses | Result: 0.999936044216156\n"
     ]
    }
   ],
   "source": [
    "for file in os.listdir('last_test'):\n",
    "    img = image_utils.load_img('last_test//'+file, target_size=(150, 150))\n",
    "    img_array = image_utils.img_to_array(img)\n",
    "    img_array = np.expand_dims(img_array, axis=0)\n",
    "    img_array /= 255.\n",
    "    answer = answer_model.predict(img_array)\n",
    "    if 1 - answer[0][0] < answer[0][0]:\n",
    "        print('Name: {} | Answer: {} | Result: {}'.format(file, 'No glasses', answer[0][0]))\n",
    "    else:\n",
    "        print('Name: {} | Answer: {} | Result: {}'.format(file, 'Glasses', answer[0][0]))"
   ]
  }
 ],
 "metadata": {
  "kernelspec": {
   "display_name": "Python 3.10.8 64-bit (microsoft store)",
   "language": "python",
   "name": "python3"
  },
  "language_info": {
   "codemirror_mode": {
    "name": "ipython",
    "version": 3
   },
   "file_extension": ".py",
   "mimetype": "text/x-python",
   "name": "python",
   "nbconvert_exporter": "python",
   "pygments_lexer": "ipython3",
   "version": "3.10.8"
  },
  "orig_nbformat": 4,
  "vscode": {
   "interpreter": {
    "hash": "79edaadf69dd6e521bf848ab75a59ceeb5b012829f4ad1c0890f13157aed63d4"
   }
  }
 },
 "nbformat": 4,
 "nbformat_minor": 2
}
